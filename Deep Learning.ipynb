{
  "cells": [
    {
      "cell_type": "markdown",
      "metadata": {
        "id": "cIg6enKVhhi4"
      },
      "source": [
        "\n",
        "\n",
        "## **COMP6685 Deep Learning Coursework A1**\n",
        "\n",
        "\n",
        "Individual (50% of total mark)\n",
        "\n",
        "\n",
        "**TASK:**\tYou are required to develop a phyton code with appropriate comments and answer questions.\n",
        "\n",
        "**Description**: Create a code using this temlate to train a Convolutional Neural Network (CNN) on the fashion MNIST dataset available at https://keras.io/api/datasets/fashion_mnist/ . \n",
        "\n",
        "Fashion MNIST is a dataset of 60,000 28x28 grayscale images of 10 fashion categories, along with a test set of 10,000 images.\n",
        "\n",
        "The dataset should be imported in the code and one sample image should be visualised before applying the model.\n",
        "\n",
        "Define a CNN and comment the chosen parameters of the network. Apply a regularization method (L1, L2 or L1L2). Divide the dataset into training, validation and test set. Obtain the accuracy on the validation set and plot the final results using the data from the test set. Comment your lines of code appropriately to explain your solution.\n",
        "\n",
        "Enhance the model's performance to obtain the best or optimal validation accuracy. Further questions about final remarks on the results will be answered on the markdown defined in the template.\n",
        "\n",
        "---\n",
        "---\n",
        "\n",
        "Note: This is only a template. You can add more code/text cells if necessary."
      ]
    },
    {
      "cell_type": "code",
      "execution_count": null,
      "metadata": {
        "id": "FkERIusYhcK6"
      },
      "outputs": [],
      "source": []
    },
    {
      "cell_type": "markdown",
      "metadata": {
        "id": "qysRQbvOm1c4"
      },
      "source": [
        "Import the dataset and divide it into training, validation and test sets. Explain how you obtained the validation set. How did you choose the size of the validation set? **(10 marks)**\n",
        "\n",
        "---"
      ]
    },
    {
      "cell_type": "code",
      "execution_count": null,
      "metadata": {
        "id": "tV9PO1GBl5_6"
      },
      "outputs": [],
      "source": [
        "# your code here"
      ]
    },
    {
      "attachments": {},
      "cell_type": "markdown",
      "metadata": {},
      "source": [
        "*your answer here*"
      ]
    },
    {
      "cell_type": "markdown",
      "metadata": {
        "id": "2-xHphsvmG7F"
      },
      "source": [
        "Visualise a random sample image of the dataset. **(10 marks)**\n",
        "\n",
        "---\n",
        "\n"
      ]
    },
    {
      "cell_type": "code",
      "execution_count": null,
      "metadata": {
        "id": "bTTrIN_nnDWK"
      },
      "outputs": [],
      "source": [
        "# your code here"
      ]
    },
    {
      "cell_type": "markdown",
      "metadata": {
        "id": "lMhGFcimoUwz"
      },
      "source": [
        "Define your CNN model. Specify the network and training parameters and comment them. **(10 marks)**\n",
        "\n",
        "---"
      ]
    },
    {
      "cell_type": "code",
      "execution_count": null,
      "metadata": {
        "id": "urupEGOFooUz"
      },
      "outputs": [],
      "source": [
        "# your code here"
      ]
    },
    {
      "cell_type": "markdown",
      "metadata": {
        "id": "csCYqn-9pDuJ"
      },
      "source": [
        "Train the CNN model. **(10 marks)**\n",
        "\n",
        "---"
      ]
    },
    {
      "cell_type": "code",
      "execution_count": null,
      "metadata": {
        "id": "xESPeCWnpJek"
      },
      "outputs": [],
      "source": [
        "# your code here"
      ]
    },
    {
      "cell_type": "markdown",
      "metadata": {
        "id": "FFMiFtDCpjMG"
      },
      "source": [
        "Evaluate your model. What is the best/highest validation accuracy your network achieved? How did you obtain this accuracy? **(10 marks)**\n"
      ]
    },
    {
      "cell_type": "code",
      "execution_count": null,
      "metadata": {
        "id": "WnCeV6qP6xmT"
      },
      "outputs": [],
      "source": [
        "# your code here"
      ]
    },
    {
      "cell_type": "markdown",
      "metadata": {
        "id": "4GvX1moIqqm0"
      },
      "source": [
        "*your answer here*"
      ]
    },
    {
      "cell_type": "markdown",
      "metadata": {
        "id": "S48e3kq_qCCi"
      },
      "source": [
        "Plot the final results on the test set and print the accuracy/loss on that set. **(10 marks)**\n",
        "\n",
        "---"
      ]
    },
    {
      "cell_type": "code",
      "execution_count": null,
      "metadata": {
        "id": "DLLIrvy2psKZ"
      },
      "outputs": [],
      "source": [
        "# your code here"
      ]
    },
    {
      "cell_type": "markdown",
      "metadata": {
        "id": "ImI7busBrCie"
      },
      "source": [
        "Additional questions:\n",
        "\n",
        "\n",
        "*   Describe whether you found any differences in the network’s accuracy when applying regularisation compared to not applying it. If there were differences, which regularisation did you use? If no differences were found, what could be the reason? **(10 marks)**\n",
        "\n",
        "*your answer here*\n",
        "\n",
        "*   Write your conclusions about the results achieved with your model on the fashion MNIST dataset and ideas to improve these results/performance further. **(10 marks)**\n",
        "\n",
        "*your answer here*\n",
        "\n",
        "---\n",
        "\n"
      ]
    },
    {
      "cell_type": "markdown",
      "metadata": {
        "id": "EcSc_1JiqRA3"
      },
      "source": [
        "Additional remarks:\n",
        "\n",
        "*   Code outline appropriately commented. **(10 marks)**\n",
        "*   Code running without errors. **(10 marks)**\n",
        "\n",
        "---\n",
        "\n"
      ]
    }
  ],
  "metadata": {
    "colab": {
      "provenance": []
    },
    "kernelspec": {
      "display_name": "Python 3",
      "name": "python3"
    },
    "language_info": {
      "name": "python"
    }
  },
  "nbformat": 4,
  "nbformat_minor": 0
}
